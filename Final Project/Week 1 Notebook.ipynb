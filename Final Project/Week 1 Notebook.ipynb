{
 "cells": [
  {
   "cell_type": "markdown",
   "metadata": {},
   "source": [
    "# Whataburger Prediction in Houston Neighborhood\n",
    "\n",
    "## *Problem Description and Background*\n"
   ]
  },
  {
   "cell_type": "markdown",
   "metadata": {},
   "source": [
    "Whataburger is a popular fast food chain in Texas. There are quite a few Whataburger restaurants in Houston, TX. Houston has 88 super neighborhoods (SNB). \n",
    "\n",
    "The management will decide to open new restaurants in Katy, which is also in the greater Houston area. The problem is which neighborhood should be chose for the next restaurants?\n",
    "\n",
    "This project is to build a model to predict which neighborhood has Whataburger restaurants in Houston.\n",
    "\n"
   ]
  },
  {
   "cell_type": "markdown",
   "metadata": {},
   "source": [
    "## *Data Description and How It Will Be Used to Solve The Problem*"
   ]
  },
  {
   "cell_type": "markdown",
   "execution_count": null,
   "metadata": {},
   "outputs": [],
   "source": [
    "The Houston neighborhood geospatial information can be obtained from the city council website, which links to the ArcGis website. The Geo data has been downloaded and converted to JSON format for the project use.\n",
    "\n",
    "Data collection starts from reading GEO JSON file that has 88 neighborhood boundaries.\n",
    "\n",
    "Simple calculations are used to get neighborhood center coordinates from the JSON file.\n",
    "\n",
    "A dataframe (table) is generated with neighborhood names and centroid coordinates, which are similar to the NY and Toronto cases in the \"Neighborhood Segmentation and Clustering\" module.\n",
    "\n",
    "Foursquare is used to get nearby venues for the neighborhoods. This process is similar to the NY and Toronto cases. The difference is, besides venues type and numbers, the data also shows if there's an exiting Whataburger in the neighborhood. The features of different venue category characterises each neighborhood. The features can be used to classify each neighborhood. \n",
    "\n",
    "The data from Foursquare will be input into a dataframe  and then grouped by neighborhood. There's an additional column to show if there's Whataburger (0 or 1). 80% of data will be used for training and 20% will be used for testing. \n",
    "\n",
    "Data wrangling will be used to clean the data and make it ready for modeling. \n",
    "\n",
    "Classification methods will be evaluated in the project. A selected method will be used to present final results. "
   ]
  },
  
  {
   "cell_type": "code",
   "execution_count": null,
   "metadata": {},
   "outputs": [],
   "source": []
  },
  {
   "cell_type": "code",
   "execution_count": null,
   "metadata": {},
   "outputs": [],
   "source": []
  }
 ],
 "metadata": {
  "file_extension": ".py",
  "kernelspec": {
   "display_name": "Python 3",
   "language": "python",
   "name": "python3"
  },
  "language_info": {
   "codemirror_mode": {
    "name": "ipython",
    "version": 3
   },
   "file_extension": ".py",
   "mimetype": "text/x-python",
   "name": "python",
   "nbconvert_exporter": "python",
   "pygments_lexer": "ipython3",
   "version": "3.7.5"
  },
  "mimetype": "text/x-python",
  "name": "python",
  "npconvert_exporter": "python",
  "pygments_lexer": "ipython3",
  "version": 3
 },
 "nbformat": 4,
 "nbformat_minor": 4
}
