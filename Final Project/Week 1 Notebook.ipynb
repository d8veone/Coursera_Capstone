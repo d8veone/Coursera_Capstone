{
 "nbformat": 4,
 "nbformat_minor": 2,
 "metadata": {
  "language_info": {
   "name": "python",
   "codemirror_mode": {
    "name": "ipython",
    "version": 3
   }
  },
  "orig_nbformat": 2,
  "file_extension": ".py",
  "mimetype": "text/x-python",
  "name": "python",
  "npconvert_exporter": "python",
  "pygments_lexer": "ipython3",
  "version": 3
 },
 "cells": [
  {
   "cell_type": "markdown",
   "execution_count": null,
   "metadata": {},
   "outputs": [],
   "source": [
    "# Whataburger Prection in Houston neighborhood\n",
    "\n",
    "## *Problem Description and Background*\n"
   ]
  },
  {
   "cell_type": "markdown",
   "execution_count": null,
   "metadata": {},
   "outputs": [],
   "source": [
    "Whataburger is a popular fast food chain in Texas. There are quite a few Whataburger restaurants in Houston, TX. Houston has 88 super neighborhoods (SNB). \n",
    "\n",
    "The management is decide to open new restaurants in Houston. The problem is which neighborhood should be choosed for the next restaurants?\n",
    "\n",
    "This project to predict which neighborhood has Whataburger restaurants.\n",
    "\n",
    "Classification methods will be used in the project. \n",
    "\n",
    "Data collection starts from reading GEO JSON file that has 88 neighborhood boundaries.\n",
    "\n",
    "Simple calculations are used to get neighborhood center coordinates from the json file.\n",
    "\n",
    "The neighborhood table has names and centroid coordinates, which are similar to the NY and Toronto practices.\n",
    "\n",
    "Use Foursquare to get venues for the neighborhoods. This process is similar to the NY and Toronto cases. The difference is, besides venues type and numbers, the data also shows if there's a exiting Whataburger in the neighborhood.\n",
    "\n",
    "The final dataframe is grouped by neighborhood. There's an additional column to show if there's Whataburger (0 or 1) Does it ring a bell? Yes, the next step will be similar to the Loan Collection case.\n"
   ]
  },
  {
   "cell_type": "markdown",
   "execution_count": null,
   "metadata": {},
   "outputs": [],
   "source": [
    "## *Data Description and How It Will Be Used to Solve The Problem*"
   ]
  },
  {
   "cell_type": "markdown",
   "execution_count": null,
   "metadata": {},
   "outputs": [],
   "source": [
    "Classification methods will be used in the project.\n",
    "\n",
    "Data collection starts from reading GEO JSON file that has 88 neighborhood boundaries.\n",
    "\n",
    "Simple calculations are used to get neighborhood center coordinates from the json file.\n",
    "\n",
    "The neighborhood table has names and centroid coordinates, which are similar to the NY and Toronto practices.\n",
    "\n",
    "Use Foursquare to get venues for the neighborhoods. This process is similar to the NY and Toronto cases. The difference is, besides venues type and numbers, the data also shows if there's a exiting Whataburger in the neighborhood.\n",
    "\n",
    "The final dataframe is grouped by neighborhood. There's an additional column to show if there's Whataburger (0 or 1) Does it ring a bell? Yes, the next step will be similar to the Loan Collection case."
   ]
  }
 ]
}