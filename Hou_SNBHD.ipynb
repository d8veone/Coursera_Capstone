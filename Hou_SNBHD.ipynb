{
 "nbformat": 4,
 "nbformat_minor": 2,
 "metadata": {
  "language_info": {
   "name": "python",
   "codemirror_mode": {
    "name": "ipython",
    "version": 3
   },
   "version": "3.7.5"
  },
  "orig_nbformat": 2,
  "file_extension": ".py",
  "mimetype": "text/x-python",
  "name": "python",
  "npconvert_exporter": "python",
  "pygments_lexer": "ipython3",
  "version": 3
 },
 "cells": [
  {
   "cell_type": "markdown",
   "execution_count": null,
   "metadata": {},
   "outputs": [],
   "source": [
    "# Capstone Final Project Week 1"
   ]
  },
  {
   "cell_type": "markdown",
   "execution_count": null,
   "metadata": {},
   "outputs": [],
   "source": [
    "### Import Key Modules"
   ]
  },
  {
   "cell_type": "code",
   "execution_count": 1,
   "metadata": {},
   "outputs": [],
   "source": [
    "import numpy as np  # useful for many scientific computing in Python\n",
    "import pandas as pd # primary data structure library\n",
    "import requests # library to handle requests\n",
    "\n",
    "import matplotlib as mpl\n",
    "import matplotlib.pyplot as plt\n",
    "# Matplotlib and associated plotting modules\n",
    "import matplotlib.cm as cm\n",
    "import matplotlib.colors as colors\n",
    "\n",
    "from geopy.geocoders import Nominatim # module to convert an address into latitude and longitude values\n",
    "\n",
    "# libraries for displaying images\n",
    "from IPython.display import Image \n",
    "from IPython.core.display import HTML \n",
    "    \n",
    "# tranforming json file into a pandas dataframe library\n",
    "from pandas.io.json import json_normalize\n",
    "import json # library to handle JSON files\n",
    "\n",
    "import folium # plotting library\n",
    "\n",
    "%matplotlib inline "
   ]
  },
  {
   "cell_type": "markdown",
   "execution_count": null,
   "metadata": {},
   "outputs": [],
   "source": [
    "Neighborhood data is from  https://cohgis-mycity.opendata.arcgis.com/datasets/super-neighborhoods?selectedAttribute=RECOGNITIO"
   ]
  },
  {
   "cell_type": "code",
   "execution_count": 2,
   "metadata": {},
   "outputs": [],
   "source": [
    "with open('Super_Neighborhoods.json') as json_data:\n",
    "    hou_geodata = json.load(json_data)"
   ]
  },
  {
   "cell_type": "markdown",
   "execution_count": null,
   "metadata": {},
   "outputs": [],
   "source": [
    "### Get the center coorindates of each neighborhood\n",
    "The geo json gives the boundaries of neighborhood, but no center point coorindates. Input the json to dataframe and calculate the center and clean the dataframe.\n",
    "Mean of coorindates is the center of the area."
   ]
  },
  {
   "cell_type": "markdown",
   "execution_count": null,
   "metadata": {},
   "outputs": [],
   "source": [
    "Pay attention of the layers of the json dictionary data structure"
   ]
  },
  {
   "cell_type": "code",
   "execution_count": 3,
   "metadata": {},
   "outputs": [
    {
     "name": "stdout",
     "output_type": "stream",
     "text": "(88, 4)\n"
    },
    {
     "data": {
      "text/html": "<div>\n<style scoped>\n    .dataframe tbody tr th:only-of-type {\n        vertical-align: middle;\n    }\n\n    .dataframe tbody tr th {\n        vertical-align: top;\n    }\n\n    .dataframe thead th {\n        text-align: right;\n    }\n</style>\n<table border=\"1\" class=\"dataframe\">\n  <thead>\n    <tr style=\"text-align: right;\">\n      <th></th>\n      <th>type</th>\n      <th>geometry</th>\n      <th>properties</th>\n      <th>id</th>\n    </tr>\n  </thead>\n  <tbody>\n    <tr>\n      <th>0</th>\n      <td>Feature</td>\n      <td>{'type': 'Polygon', 'coordinates': [[[-95.3858...</td>\n      <td>{'OBJECTID': 1, 'PERIMETER': 16572.025, 'POLYI...</td>\n      <td>1</td>\n    </tr>\n    <tr>\n      <th>1</th>\n      <td>Feature</td>\n      <td>{'type': 'Polygon', 'coordinates': [[[-95.3201...</td>\n      <td>{'OBJECTID': 2, 'PERIMETER': 43118.77, 'POLYID...</td>\n      <td>2</td>\n    </tr>\n    <tr>\n      <th>2</th>\n      <td>Feature</td>\n      <td>{'type': 'Polygon', 'coordinates': [[[-95.3473...</td>\n      <td>{'OBJECTID': 3, 'PERIMETER': 39256.388, 'POLYI...</td>\n      <td>3</td>\n    </tr>\n    <tr>\n      <th>3</th>\n      <td>Feature</td>\n      <td>{'type': 'Polygon', 'coordinates': [[[-95.2562...</td>\n      <td>{'OBJECTID': 4, 'PERIMETER': 59784.698, 'POLYI...</td>\n      <td>4</td>\n    </tr>\n    <tr>\n      <th>4</th>\n      <td>Feature</td>\n      <td>{'type': 'Polygon', 'coordinates': [[[-95.4538...</td>\n      <td>{'OBJECTID': 5, 'PERIMETER': 75759.39, 'POLYID...</td>\n      <td>5</td>\n    </tr>\n  </tbody>\n</table>\n</div>",
      "text/plain": "      type                                           geometry  \\\n0  Feature  {'type': 'Polygon', 'coordinates': [[[-95.3858...   \n1  Feature  {'type': 'Polygon', 'coordinates': [[[-95.3201...   \n2  Feature  {'type': 'Polygon', 'coordinates': [[[-95.3473...   \n3  Feature  {'type': 'Polygon', 'coordinates': [[[-95.2562...   \n4  Feature  {'type': 'Polygon', 'coordinates': [[[-95.4538...   \n\n                                          properties  id  \n0  {'OBJECTID': 1, 'PERIMETER': 16572.025, 'POLYI...   1  \n1  {'OBJECTID': 2, 'PERIMETER': 43118.77, 'POLYID...   2  \n2  {'OBJECTID': 3, 'PERIMETER': 39256.388, 'POLYI...   3  \n3  {'OBJECTID': 4, 'PERIMETER': 59784.698, 'POLYI...   4  \n4  {'OBJECTID': 5, 'PERIMETER': 75759.39, 'POLYID...   5  "
     },
     "execution_count": 3,
     "metadata": {},
     "output_type": "execute_result"
    }
   ],
   "source": [
    "df=pd.DataFrame(hou_geodata['features'])\n",
    "print(df.shape)\n",
    "df.head()"
   ]
  },
  {
   "cell_type": "code",
   "execution_count": 4,
   "metadata": {},
   "outputs": [],
   "source": [
    "hou_df=df.rename(columns={\"type\":\"SNBNAME\",\"geometry\":\"Latitude\",\"properties\":\"Longitude\",\"id\":\"POLYID\"})"
   ]
  },
  {
   "cell_type": "code",
   "execution_count": 5,
   "metadata": {},
   "outputs": [
    {
     "data": {
      "text/html": "<div>\n<style scoped>\n    .dataframe tbody tr th:only-of-type {\n        vertical-align: middle;\n    }\n\n    .dataframe tbody tr th {\n        vertical-align: top;\n    }\n\n    .dataframe thead th {\n        text-align: right;\n    }\n</style>\n<table border=\"1\" class=\"dataframe\">\n  <thead>\n    <tr style=\"text-align: right;\">\n      <th></th>\n      <th>SNBNAME</th>\n      <th>Latitude</th>\n      <th>Longitude</th>\n      <th>POLYID</th>\n    </tr>\n  </thead>\n  <tbody>\n    <tr>\n      <th>0</th>\n      <td>Feature</td>\n      <td>{'type': 'Polygon', 'coordinates': [[[-95.3858...</td>\n      <td>{'OBJECTID': 1, 'PERIMETER': 16572.025, 'POLYI...</td>\n      <td>1</td>\n    </tr>\n    <tr>\n      <th>1</th>\n      <td>Feature</td>\n      <td>{'type': 'Polygon', 'coordinates': [[[-95.3201...</td>\n      <td>{'OBJECTID': 2, 'PERIMETER': 43118.77, 'POLYID...</td>\n      <td>2</td>\n    </tr>\n    <tr>\n      <th>2</th>\n      <td>Feature</td>\n      <td>{'type': 'Polygon', 'coordinates': [[[-95.3473...</td>\n      <td>{'OBJECTID': 3, 'PERIMETER': 39256.388, 'POLYI...</td>\n      <td>3</td>\n    </tr>\n    <tr>\n      <th>3</th>\n      <td>Feature</td>\n      <td>{'type': 'Polygon', 'coordinates': [[[-95.2562...</td>\n      <td>{'OBJECTID': 4, 'PERIMETER': 59784.698, 'POLYI...</td>\n      <td>4</td>\n    </tr>\n    <tr>\n      <th>4</th>\n      <td>Feature</td>\n      <td>{'type': 'Polygon', 'coordinates': [[[-95.4538...</td>\n      <td>{'OBJECTID': 5, 'PERIMETER': 75759.39, 'POLYID...</td>\n      <td>5</td>\n    </tr>\n  </tbody>\n</table>\n</div>",
      "text/plain": "   SNBNAME                                           Latitude  \\\n0  Feature  {'type': 'Polygon', 'coordinates': [[[-95.3858...   \n1  Feature  {'type': 'Polygon', 'coordinates': [[[-95.3201...   \n2  Feature  {'type': 'Polygon', 'coordinates': [[[-95.3473...   \n3  Feature  {'type': 'Polygon', 'coordinates': [[[-95.2562...   \n4  Feature  {'type': 'Polygon', 'coordinates': [[[-95.4538...   \n\n                                           Longitude  POLYID  \n0  {'OBJECTID': 1, 'PERIMETER': 16572.025, 'POLYI...       1  \n1  {'OBJECTID': 2, 'PERIMETER': 43118.77, 'POLYID...       2  \n2  {'OBJECTID': 3, 'PERIMETER': 39256.388, 'POLYI...       3  \n3  {'OBJECTID': 4, 'PERIMETER': 59784.698, 'POLYI...       4  \n4  {'OBJECTID': 5, 'PERIMETER': 75759.39, 'POLYID...       5  "
     },
     "execution_count": 5,
     "metadata": {},
     "output_type": "execute_result"
    }
   ],
   "source": [
    "hou_df.head()"
   ]
  },
  {
   "cell_type": "code",
   "execution_count": 6,
   "metadata": {},
   "outputs": [],
   "source": [
    "i=0\n",
    "for i in range(hou_df.shape[0]):\n",
    "     hou_df.loc[i,\"SNBNAME\"]=hou_geodata['features'][i]['properties'][\"SNBNAME\"]\n",
    "     hou_df.loc[i,\"Latitude\"]=pd.DataFrame(hou_geodata['features'][i]['geometry']['coordinates'][0]).mean()[1] \n",
    "     hou_df.loc[i,\"Longitude\"]=pd.DataFrame(hou_geodata['features'][i]['geometry']['coordinates'][0]).mean()[0] \n",
    "     hou_df.loc[i,\"POLYID\"]=hou_geodata['features'][i]['properties'][\"POLYID\"]"
   ]
  },
  {
   "cell_type": "code",
   "execution_count": 7,
   "metadata": {},
   "outputs": [
    {
     "data": {
      "text/html": "<div>\n<style scoped>\n    .dataframe tbody tr th:only-of-type {\n        vertical-align: middle;\n    }\n\n    .dataframe tbody tr th {\n        vertical-align: top;\n    }\n\n    .dataframe thead th {\n        text-align: right;\n    }\n</style>\n<table border=\"1\" class=\"dataframe\">\n  <thead>\n    <tr style=\"text-align: right;\">\n      <th></th>\n      <th>SNBNAME</th>\n      <th>Latitude</th>\n      <th>Longitude</th>\n      <th>POLYID</th>\n    </tr>\n  </thead>\n  <tbody>\n    <tr>\n      <th>0</th>\n      <td>FOURTH WARD</td>\n      <td>29.7591</td>\n      <td>-95.3802</td>\n      <td>60</td>\n    </tr>\n    <tr>\n      <th>1</th>\n      <td>SECOND WARD</td>\n      <td>29.7517</td>\n      <td>-95.3316</td>\n      <td>63</td>\n    </tr>\n    <tr>\n      <th>2</th>\n      <td>DOWNTOWN</td>\n      <td>29.7583</td>\n      <td>-95.3539</td>\n      <td>61</td>\n    </tr>\n    <tr>\n      <th>3</th>\n      <td>CLINTON PARK TRI-COMMUNITY</td>\n      <td>29.7398</td>\n      <td>-95.2559</td>\n      <td>59</td>\n    </tr>\n    <tr>\n      <th>4</th>\n      <td>GREATER UPTOWN</td>\n      <td>29.7713</td>\n      <td>-95.4901</td>\n      <td>21</td>\n    </tr>\n  </tbody>\n</table>\n</div>",
      "text/plain": "                      SNBNAME Latitude Longitude  POLYID\n0                 FOURTH WARD  29.7591  -95.3802      60\n1                 SECOND WARD  29.7517  -95.3316      63\n2                    DOWNTOWN  29.7583  -95.3539      61\n3  CLINTON PARK TRI-COMMUNITY  29.7398  -95.2559      59\n4              GREATER UPTOWN  29.7713  -95.4901      21"
     },
     "execution_count": 7,
     "metadata": {},
     "output_type": "execute_result"
    }
   ],
   "source": [
    "hou_df.head()"
   ]
  },
  {
   "cell_type": "code",
   "execution_count": 8,
   "metadata": {},
   "outputs": [
    {
     "data": {
      "text/plain": "(88, 4)"
     },
     "execution_count": 8,
     "metadata": {},
     "output_type": "execute_result"
    }
   ],
   "source": [
    "hou_df.shape"
   ]
  },
  {
   "cell_type": "code",
   "execution_count": null,
   "metadata": {},
   "outputs": [],
   "source": []
  }
 ]
}